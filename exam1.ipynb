{
 "cells": [
  {
   "cell_type": "code",
   "execution_count": null,
   "metadata": {},
   "outputs": [],
   "source": [
    "import mysql.connector as connector\n",
    "import datetime as dt\n",
    "connection=connector.connect(host = \"127.0.0.1\", port = \"3306\",user=\"root\",password=\"1010\")\n",
    "cursor = connection.cursor(buffered=True)\n",
    "cursor.execute(\"use little_lemon\")"
   ]
  },
  {
   "cell_type": "code",
   "execution_count": null,
   "metadata": {},
   "outputs": [],
   "source": [
    "sel_stm = \"\"\"select * from bookings\"\"\"\n",
    "cursor.execute(sel_stm)\n",
    "result = cursor.fetchall()\n",
    "print(cursor.column_names)\n",
    "for i in result:\n",
    "    print(i)"
   ]
  },
  {
   "cell_type": "code",
   "execution_count": null,
   "metadata": {},
   "outputs": [],
   "source": [
    "sel_stm = \"\"\"select * from bookings\"\"\"\n",
    "cursor.execute(sel_stm)\n",
    "print (cursor.column_names)\n",
    "for i in cursor:\n",
    "    id=i[0]\n",
    "    slot=i[4]\n",
    "    new_slot=slot+dt.timedelta(hours=1)\n",
    "    print(\"booking id {} is moved from {} to {}\".format(id,slot,new_slot))\n",
    "\n"
   ]
  },
  {
   "cell_type": "code",
   "execution_count": null,
   "metadata": {},
   "outputs": [],
   "source": [
    "sel_stm = \"\"\"select count(BookingID),sum(BillAmount),avg(BillAmount) from orders\"\"\"\n",
    "cursor.execute(sel_stm)\n",
    "result = cursor.fetchall()\n",
    "for i in result:\n",
    "    print(\"Total number of orders: \",i[0])\n",
    "    print(\"Total bill amount: \",i[1])\n",
    "    print(\"Average bill amount: \",i[2])"
   ]
  },
  {
   "cell_type": "code",
   "execution_count": null,
   "metadata": {},
   "outputs": [],
   "source": [
    "sel_stm = \"\"\"select hour(BookingSlot) as Hour ,count(BookingID) No_of_Orders from bookings group by hour(BookingSlot) order by hour(BookingSlot)\"\"\"\n",
    "cursor.execute(sel_stm)\n",
    "result = cursor.fetchall()\n",
    "print(cursor.column_names)\n",
    "for i in result:\n",
    "    print(\"Hour: \",i[0], \"<<>> No of Orders: \",i[1])"
   ]
  },
  {
   "cell_type": "code",
   "execution_count": null,
   "metadata": {},
   "outputs": [],
   "source": [
    "sel_stm = \"\"\"select TableNo,concat(GuestFirstName,\" \",GuestLastName) as full_name,time(BookingSlot) as Hour from bookings group by TableNo,full_name,time(BookingSlot) order by TableNo\"\"\"\n",
    "cursor.execute(sel_stm)\n",
    "result = cursor.fetchall()\n",
    "for i in result:\n",
    "    print(\"TableNo: \",i[0], \"<<>> Guest Name: \",i[1], \"<<>> Hour: \",i[2])"
   ]
  },
  {
   "cell_type": "code",
   "execution_count": null,
   "metadata": {},
   "outputs": [],
   "source": [
    "sel_stm = \"\"\"select BookingID, TableNo, BookingSlot from bookings where BookingID = 2\"\"\"\n",
    "cursor.execute(sel_stm)\n",
    "result = cursor.fetchall()\n",
    "for i in result:\n",
    "    new_b= i[2]+dt.timedelta(hours=1)\n",
    "    print(\"Booking with ID {} has changed from {} to {}\".format(i[0],i[2],new_b))\n",
    "    "
   ]
  },
  {
   "cell_type": "code",
   "execution_count": null,
   "metadata": {},
   "outputs": [],
   "source": [
    "sel_stm = \"\"\" create procedure get_order()\n",
    "begin\n",
    "SELECT b.BookingID as id,concat(b.GuestFirstName,\" \",GuestLastName) ,o.BillAmount as cost from bookings as b \n",
    "INNER JOIN orders as o ON b.BookingID=o.BookingID \n",
    "ORDER BY cost desc limit 1;\n",
    "end\"\"\"\n",
    "cursor.execute(sel_stm)\n",
    "cursor.callproc(\"get_order\")\n",
    "results = next(cursor.stored_results())\n",
    "result = results.fetchall()\n",
    "for i in result:\n",
    "    print(i)"
   ]
  },
  {
   "cell_type": "code",
   "execution_count": null,
   "metadata": {},
   "outputs": [],
   "source": [
    "sel_stm = \"\"\" create procedure get_cancel()\n",
    "begin\n",
    "SELECT b.BookingID as id,concat(b.GuestFirstName,\" \",GuestLastName) ,o.OrderID as cost from bookings as b \n",
    "LEFT JOIN orders as o ON b.BookingID=o.BookingID WHERE o.OrderID is NULL\n",
    "ORDER BY cost desc;\n",
    "end\"\"\"\n",
    "cursor.execute(sel_stm)\n",
    "cursor.callproc(\"get_cancel\")\n",
    "results = next(cursor.stored_results())\n",
    "result = results.fetchall()\n",
    "for i in result:\n",
    "    print(i)"
   ]
  },
  {
   "cell_type": "code",
   "execution_count": null,
   "metadata": {},
   "outputs": [],
   "source": [
    "sel_stm = \"\"\" create procedure get_status()\n",
    "begin\n",
    "SELECT BookingID,\n",
    "CASE WHEN EmployeeID BETWEEN 1 AND 3 then \"Served\"\n",
    "WHEN EmployeeID BETWEEN 4 AND 5 THEN \"Preparing\"\n",
    "ELSE \"In Queue\" end as Status from bookings;\n",
    "end\"\"\"\n",
    "cursor.execute(sel_stm)\n",
    "cursor.callproc(\"get_status\")\n",
    "results = next(cursor.stored_results())\n",
    "result = results.fetchall()\n",
    "for i in result:\n",
    "    print(i)"
   ]
  },
  {
   "cell_type": "code",
   "execution_count": null,
   "metadata": {},
   "outputs": [],
   "source": [
    "x=str()\n",
    "y=input(\"Enter the word\")\n",
    "z=int(input(\"Enter number of trials\"))\n",
    "while z>0:\n",
    "    t=input(\"Enter letter\")\n",
    "    if t in y:\n",
    "        x=x+t\n",
    "    else:\n",
    "        print(\"Wrong guess,Try Again\")\n",
    "    if x==y:\n",
    "        print(\"You have guessed the word,it is {}\".format(x))\n",
    "        break\n",
    "    z=z-1\n",
    "    if z==0:\n",
    "        print(\"You have run out of trials\")\n",
    "        break\n",
    "\n"
   ]
  },
  {
   "cell_type": "code",
   "execution_count": null,
   "metadata": {},
   "outputs": [],
   "source": [
    "#figure out who has sent the greatest number of mail messages. \n",
    "# The program looks for 'From ' lines and takes the second word of those lines as the person who sent the mail. \n",
    "# The program creates a Python dictionary that maps the sender's mail address to a count of the number of times they appear in the file. \n",
    "# After the dictionary is produced, the program reads through the dictionary using a maximum loop to find the most prolific committer.\n",
    "\n",
    "name = input(\"Enter file:\")\n",
    "if len(name) < 1:\n",
    "    name = \"mbox-short.txt\"\n",
    "handle = open(name)\n",
    "emails=dict()\n",
    "lst=[]\n",
    "x=[]\n",
    "for mails in handle:\n",
    "    if \"From\" not in mails:\n",
    "        continue\n",
    "    else:\n",
    "        lst = mails.split()\n",
    "        x.append(lst[1])\n",
    "for y in x:\n",
    "    emails[y]=emails.get(y,0)+1\n",
    "print(emails)    \n",
    "c=1\n",
    "\n",
    "for key,value in emails.items():\n",
    "    while c>0:\n",
    "        b=value\n",
    "        c-=1\n",
    "    if value > b:\n",
    "        m=key\n",
    "        b=value\n",
    "print(m)  "
   ]
  },
  {
   "cell_type": "code",
   "execution_count": null,
   "metadata": {},
   "outputs": [],
   "source": [
    "# The program should build a list of words. \n",
    "# For each word on each line check to see if the word is already in the list and if not append it to the list. \n",
    "# When the program completes, sort and print the resulting words\n",
    "\n",
    "fname = input(\"Enter file name: \")\n",
    "fh = open(fname)\n",
    "lst = list()\n",
    "b=list()\n",
    "for line in fh:\n",
    "    line.rstrip()\n",
    "    lst=line.split()\n",
    "    for c in lst:\n",
    "        if c in b:\n",
    "            continue\n",
    "        else:\n",
    "            b.append(c)\n",
    "b=sorted(b)\n",
    "print(b)"
   ]
  }
 ],
 "metadata": {
  "kernelspec": {
   "display_name": "Python 3",
   "language": "python",
   "name": "python3"
  },
  "language_info": {
   "codemirror_mode": {
    "name": "ipython",
    "version": 3
   },
   "file_extension": ".py",
   "mimetype": "text/x-python",
   "name": "python",
   "nbconvert_exporter": "python",
   "pygments_lexer": "ipython3",
   "version": "3.13.2"
  }
 },
 "nbformat": 4,
 "nbformat_minor": 2
}
